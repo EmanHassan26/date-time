{
 "cells": [
  {
   "cell_type": "code",
   "execution_count": 5,
   "metadata": {},
   "outputs": [
    {
     "name": "stdout",
     "output_type": "stream",
     "text": [
      "['MAXYEAR', 'MINYEAR', '__builtins__', '__cached__', '__doc__', '__file__', '__loader__', '__name__', '__package__', '__spec__', 'date', 'datetime', 'datetime_CAPI', 'sys', 'time', 'timedelta', 'timezone', 'tzinfo']\n",
      "\n",
      "\n",
      "****************************************\n",
      "\n",
      "\n",
      "['__add__', '__class__', '__delattr__', '__dir__', '__doc__', '__eq__', '__format__', '__ge__', '__getattribute__', '__gt__', '__hash__', '__init__', '__init_subclass__', '__le__', '__lt__', '__ne__', '__new__', '__radd__', '__reduce__', '__reduce_ex__', '__repr__', '__rsub__', '__setattr__', '__sizeof__', '__str__', '__sub__', '__subclasshook__', 'astimezone', 'combine', 'ctime', 'date', 'day', 'dst', 'fold', 'fromisoformat', 'fromordinal', 'fromtimestamp', 'hour', 'isocalendar', 'isoformat', 'isoweekday', 'max', 'microsecond', 'min', 'minute', 'month', 'now', 'replace', 'resolution', 'second', 'strftime', 'strptime', 'time', 'timestamp', 'timetuple', 'timetz', 'today', 'toordinal', 'tzinfo', 'tzname', 'utcfromtimestamp', 'utcnow', 'utcoffset', 'utctimetuple', 'weekday', 'year']\n"
     ]
    }
   ],
   "source": [
    "import datetime\n",
    "print(dir(datetime))\n",
    "print(\"\\n\")\n",
    "print(\"*\" * 40)\n",
    "print(\"\\n\")\n",
    "print(dir(datetime.datetime))\n"
   ]
  },
  {
   "cell_type": "code",
   "execution_count": 11,
   "metadata": {},
   "outputs": [
    {
     "name": "stdout",
     "output_type": "stream",
     "text": [
      "Current Date & Time : 2022-12-03 11:59:39.389704\n",
      "Current Year : 2022\n",
      "Current Month : 12\n",
      "Current Day : 3\n",
      "the Start of Date : 0001-01-01 00:00:00\n",
      "the End of Date : 9999-12-31 23:59:59.999999\n",
      "Current Time : 11:59:39.390690\n",
      "the Start of Time : 00:00:00\n",
      "the End of Time : 23:59:59.999999\n"
     ]
    }
   ],
   "source": [
    "import datetime\n",
    "\n",
    "#print Current Date & Time :\n",
    "print(\"Current Date & Time : \" ,end=\"\")\n",
    "print(datetime.datetime.now())\n",
    "\n",
    "#print Current Year :\n",
    "print(\"Current Year : \" ,end=\"\")\n",
    "print(datetime.datetime.now().year)\n",
    "\n",
    "#print Current Month :\n",
    "print(\"Current Month : \" ,end=\"\")\n",
    "print(datetime.datetime.now().month)\n",
    "\n",
    "#print Current Day :\n",
    "print(\"Current Day : \" ,end=\"\")\n",
    "print(datetime.datetime.now().day)\n",
    "\n",
    "#print the Start & End of Date :\n",
    "print(\"the Start of Date : \" ,end=\"\")\n",
    "print(datetime.datetime.min)\n",
    "print(\"the End of Date : \" ,end=\"\")\n",
    "print(datetime.datetime.max)\n",
    "\n",
    "#print Current Time :\n",
    "print(\"Current Time : \" ,end=\"\")\n",
    "print(datetime.datetime.now().time())\n",
    "\n",
    "#print the Start & End of Time :\n",
    "print(\"the Start of Time : \" ,end=\"\")\n",
    "print(datetime.time.min)\n",
    "print(\"the End of Time : \" ,end=\"\")\n",
    "print(datetime.time.max)"
   ]
  },
  {
   "cell_type": "code",
   "execution_count": 17,
   "metadata": {},
   "outputs": [
    {
     "name": "stdout",
     "output_type": "stream",
     "text": [
      "spacific Date\n",
      "2002-05-26 00:00:00\n",
      "my Birthday Is : 2002-05-26 00:00:00 And Now Is 2022-12-03 12:05:48.935257 So I Have Lived For 7496 days, 12:05:48.935257 Day .\n",
      "my Birthday Is : 2002-05-26 00:00:00 And Now Is 2022-12-03 12:05:48.935784 So I Have Lived For 7496 Day .\n"
     ]
    }
   ],
   "source": [
    "import datetime\n",
    "\n",
    "#print spacific Date \n",
    "print(\"spacific Date\")\n",
    "print(datetime.datetime(2002,5,26))\n",
    "\n",
    "#print num of days that i have lived :\n",
    "mybd = datetime.datetime(2002,5,26)\n",
    "cdt = datetime.datetime.now()\n",
    "print(f\"my Birthday Is : {mybd} And Now Is {cdt} So I Have Lived For {(cdt-mybd)} Day .\")\n",
    "\n",
    "#print num of days that i have lived =>JUST THE DAYS :\n",
    "mybd = datetime.datetime(2002,5,26)\n",
    "cdt = datetime.datetime.now()\n",
    "print(f\"my Birthday Is : {mybd} And Now Is {cdt} So I Have Lived For {(cdt-mybd).days} Day .\")"
   ]
  },
  {
   "cell_type": "code",
   "execution_count": 26,
   "metadata": {},
   "outputs": [
    {
     "name": "stdout",
     "output_type": "stream",
     "text": [
      "The Full BD Of Spacific Date : \n",
      "Sunday - May - 2002\n",
      "Only The Day : \n",
      "Sunday\n",
      "Sun\n",
      "Only The Month : \n",
      "May\n",
      "May\n",
      "Only The Year : \n",
      "2002\n",
      "02\n",
      "\n",
      "The Full Date Of Current Day : \n",
      "Saturday - December - 2022\n",
      "Only The Day : \n",
      "Saturday\n",
      "Sat\n",
      "Only The Month : \n",
      "December\n",
      "Dec\n",
      "Only The Year : \n",
      "2022\n",
      "22\n",
      "Only The Hour : \n",
      "12\n",
      "Only The Minutes : \n",
      "17\n",
      "Only The Seconds : \n",
      "31\n"
     ]
    }
   ],
   "source": [
    "# Format Date And Time :\n",
    "import datetime\n",
    "mybd = datetime.datetime(2002,5,26)\n",
    "print(\"The Full BD Of Spacific Date : \")\n",
    "print(mybd.strftime(\"%A - %B - %Y\"))\n",
    "print(\"Only The Day : \")\n",
    "print(mybd.strftime(\"%A\"))\n",
    "print(mybd.strftime(\"%a\"))\n",
    "print(\"Only The Month : \")\n",
    "print(mybd.strftime(\"%B\"))\n",
    "print(mybd.strftime(\"%b\"))\n",
    "print(\"Only The Year : \")\n",
    "print(mybd.strftime(\"%Y\"))\n",
    "print(mybd.strftime(\"%y\"))\n",
    "\n",
    "print(\"\\nThe Full Date Of Current Day : \")\n",
    "ctm = datetime.datetime.now()\n",
    "print(ctm.strftime(\"%A - %B - %Y\"))\n",
    "print(\"Only The Day : \")\n",
    "print(ctm.strftime(\"%A\"))\n",
    "print(ctm.strftime(\"%a\"))\n",
    "print(\"Only The Month : \")\n",
    "print(ctm.strftime(\"%B\"))\n",
    "print(ctm.strftime(\"%b\"))\n",
    "print(\"Only The Year : \")\n",
    "print(ctm.strftime(\"%Y\"))\n",
    "print(ctm.strftime(\"%y\"))\n",
    "print(\"Only The Hour : \")\n",
    "print(ctm.strftime(\"%H\"))\n",
    "print(\"Only The Minutes : \")\n",
    "print(ctm.strftime(\"%M\"))\n",
    "print(\"Only The Seconds : \")\n",
    "print(ctm.strftime(\"%S\"))"
   ]
  },
  {
   "cell_type": "code",
   "execution_count": null,
   "metadata": {},
   "outputs": [],
   "source": [
    "#Small Application :\n",
    "import datetime \n",
    "print(\"welcome , Plz inter the following information in numeric data : \")\n",
    "y = int(input(\"The year U born in : \"))\n",
    "m = int(input(\"The Month U born in : \"))\n",
    "d = int(input(\"The Day U born in : \"))\n",
    "\n",
    "bd = datetime.datetime(y,m,d)\n",
    "print(f\"Ur BD is {bd}\")\n",
    "\n",
    "cy = datetime.datetime.now().year\n",
    "cm = datetime.datetime.now().month\n",
    "cd = datetime.datetime.now().day\n",
    "\n",
    "hly = cy - y \n",
    "hlm = cm - m\n",
    "hld = d - cd\n",
    "\n",
    "print(f\"U Live For {hly} Year , And {hlm} Month  , And {hld} Days \")"
   ]
  },
  {
   "cell_type": "code",
   "execution_count": null,
   "metadata": {},
   "outputs": [],
   "source": [
    "#Small Application :\n",
    "import datetime \n",
    "print(\"welcome , Plz inter the following information in numeric data : \")\n",
    "y = int(input(\"The year U born in : \"))\n",
    "m = int(input(\"The Month U born in : \"))\n",
    "d = int(input(\"The Day U born in : \"))\n",
    "\n",
    "bd = datetime.datetime(y,m,d)\n",
    "print(f\"Ur BD is {bd}\")\n",
    "\n",
    "cy = datetime.datetime.now().year\n",
    "cm = datetime.datetime.now().month\n",
    "cd = datetime.datetime.now().day\n",
    "\n",
    "hly = cy - y \n",
    "hlm = cm - m\n",
    "hld = d - cd\n",
    "\n",
    "print(f\"U Live For {hly} Year , And {hlm} Month  , And {hld} Days \")"
   ]
  },
  {
   "cell_type": "code",
   "execution_count": null,
   "metadata": {},
   "outputs": [],
   "source": []
  }
 ],
 "metadata": {
  "kernelspec": {
   "display_name": "Python 3",
   "language": "python",
   "name": "python3"
  },
  "language_info": {
   "codemirror_mode": {
    "name": "ipython",
    "version": 3
   },
   "file_extension": ".py",
   "mimetype": "text/x-python",
   "name": "python",
   "nbconvert_exporter": "python",
   "pygments_lexer": "ipython3",
   "version": "3.7.4"
  }
 },
 "nbformat": 4,
 "nbformat_minor": 2
}
